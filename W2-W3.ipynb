{
 "cells": [
  {
   "cell_type": "markdown",
   "metadata": {
    "id": "gTUI3-fFRa9m"
   },
   "source": [
    "# CS3PP19 - Programming in Python for Data Science - Practical 1\n",
    "\n",
    "## Data Types and Operators"
   ]
  },
  {
   "cell_type": "markdown",
   "metadata": {
    "id": "cngtidv1Ra9n"
   },
   "source": [
    "Follow the instructions to complete each of these tasks, and use the testing code cells to check your answers. This set of exercises focuses on writing basic Python code, specificaly python data types and operators.\n",
    "\n",
    "The relevant materials for these exercises is Lecture2-DataTypes-ComparisonOperators-FlowControl.\n",
    "\n",
    "This is not assessed but will help you gain practical experience for the exam and coursework.\n",
    "\n",
    "*Feel free to work on them in any order, and focus on the ones you find most challening or interesting!*"
   ]
  },
  {
   "cell_type": "markdown",
   "metadata": {
    "id": "Sz89TP29Ra9o"
   },
   "source": [
    "### A Classic or Cliche?\n",
    "\n",
    "Print Hello World!"
   ]
  },
  {
   "cell_type": "code",
   "execution_count": 1,
   "metadata": {
    "id": "0Lxy3162Ra9o"
   },
   "outputs": [
    {
     "name": "stdout",
     "output_type": "stream",
     "text": [
      "hello world\n"
     ]
    }
   ],
   "source": [
    "print(\"hello world\")"
   ]
  },
  {
   "cell_type": "markdown",
   "metadata": {
    "id": "R41gkq86Ra9s"
   },
   "source": [
    "### Variables\n",
    "\n",
    "In python there is no need to declare a type.\n",
    "\n",
    "Create the following variables:\n",
    "    - Name\n",
    "    - Age\n",
    "\n",
    "Use your own name and age and then print both."
   ]
  },
  {
   "cell_type": "code",
   "execution_count": 2,
   "metadata": {
    "id": "MXZVe5g1Ra9s"
   },
   "outputs": [
    {
     "name": "stdout",
     "output_type": "stream",
     "text": [
      "Stefanos--24\n"
     ]
    }
   ],
   "source": [
    "name=\"Stefanos\"\n",
    "age=24\n",
    "print(name+\"--\"+str(age))"
   ]
  },
  {
   "cell_type": "markdown",
   "metadata": {
    "id": "VHP2EdGLRa9v"
   },
   "source": [
    "## Array Types in Python\n",
    "\n",
    "- Lists\n",
    "- Tuple\n",
    "- Set\n",
    "- Dictionary\n",
    "\n",
    "### Lists\n",
    "\n",
    "Lists are declared using [] and they are both ordered and changeable.\n",
    "\n",
    "1.1 Declare a list called modules of the modules you are studing this year and print them."
   ]
  },
  {
   "cell_type": "code",
   "execution_count": 20,
   "metadata": {
    "id": "z6E-bJV7Ra9v"
   },
   "outputs": [
    {
     "name": "stdout",
     "output_type": "stream",
     "text": [
      "['Course1', 'Course2', 'Course3']\n"
     ]
    }
   ],
   "source": [
    "modules=['Course1','Course2','Course3']\n",
    "print(modules)"
   ]
  },
  {
   "cell_type": "markdown",
   "metadata": {
    "id": "ea7Td_huRa9x"
   },
   "source": [
    "#### Accessing lists\n",
    "\n",
    "1.2 Access using the index - print the 3rd module in the list.\n",
    "    * note whether python uses 0 or 1 indexing as a comment.\n",
    "\n"
   ]
  },
  {
   "cell_type": "code",
   "execution_count": 21,
   "metadata": {
    "id": "rXmcVwbkRa9y"
   },
   "outputs": [
    {
     "name": "stdout",
     "output_type": "stream",
     "text": [
      "Course3\n"
     ]
    }
   ],
   "source": [
    "print(modules[2])"
   ]
  },
  {
   "cell_type": "markdown",
   "metadata": {
    "id": "k9gOS4WeRa90"
   },
   "source": [
    "1.3 Negative indexing - this allows you to access from the end of the list, print the 3rd from last module in the list."
   ]
  },
  {
   "cell_type": "code",
   "execution_count": 22,
   "metadata": {
    "id": "ZtDxgMj4Ra91"
   },
   "outputs": [
    {
     "name": "stdout",
     "output_type": "stream",
     "text": [
      "Course3\n"
     ]
    }
   ],
   "source": [
    "print(modules[-1])"
   ]
  },
  {
   "cell_type": "markdown",
   "metadata": {
    "id": "bXXiUM1JRa93"
   },
   "source": [
    "#### Working with lists\n",
    "\n",
    "1.4 Create a second list called lastyear with the modules you studied last year."
   ]
  },
  {
   "cell_type": "code",
   "execution_count": 23,
   "metadata": {
    "id": "9vIlwToaRa93"
   },
   "outputs": [],
   "source": [
    "lastyear=['OldCourse1','OldCourse2']"
   ]
  },
  {
   "cell_type": "markdown",
   "metadata": {
    "id": "dQAKK_-sRa96"
   },
   "source": [
    "1.5 Join both lists into one. \n",
    "\n",
    "HINT: there are 3 ways you cold do this..."
   ]
  },
  {
   "cell_type": "code",
   "execution_count": 24,
   "metadata": {
    "id": "7UXf-3XORa96"
   },
   "outputs": [
    {
     "name": "stdout",
     "output_type": "stream",
     "text": [
      "['Course1', 'Course2', 'Course3', 'OldCourse1', 'OldCourse2']\n"
     ]
    }
   ],
   "source": [
    "modules.extend(lastyear)\n",
    "print(modules)"
   ]
  },
  {
   "cell_type": "markdown",
   "metadata": {
    "id": "pouqvKphRa98"
   },
   "source": [
    "### Dictionaries\n",
    "\n",
    "Dictionaries are declared using {} and are unordered, changeable and indexed. They contain key and value pairs.\n",
    "\n",
    "2.1 Declare a dictionary called favmod with the information for your favourite module with the following information:\n",
    "    - Name\n",
    "    - Year\n",
    "    - Lecturer\n",
    "\n",
    "Then print the dictionary."
   ]
  },
  {
   "cell_type": "code",
   "execution_count": 29,
   "metadata": {
    "id": "ctRy_YDIRa99"
   },
   "outputs": [
    {
     "name": "stdout",
     "output_type": "stream",
     "text": [
      "{'Name': 'No One', 'Year': 2022, 'Lecturer': 'Noone'}\n"
     ]
    }
   ],
   "source": [
    "favmod={\"Name\":\"No One\",\"Year\":2022,\"Lecturer\":\"Noone\"}\n",
    "print(favmod)"
   ]
  },
  {
   "cell_type": "markdown",
   "metadata": {
    "id": "-D--k8teRa9_"
   },
   "source": [
    "#### Accessing Dictionaries\n",
    "2.2 Get the value for the year of study from the dictionary and print it."
   ]
  },
  {
   "cell_type": "code",
   "execution_count": 30,
   "metadata": {
    "id": "tGtmyNE6Ra9_"
   },
   "outputs": [
    {
     "name": "stdout",
     "output_type": "stream",
     "text": [
      "2022\n"
     ]
    }
   ],
   "source": [
    "print(favmod[\"Year\"])\n"
   ]
  },
  {
   "cell_type": "markdown",
   "metadata": {
    "id": "yXhKAHsFRa-B"
   },
   "source": [
    "#### Nesting Dictionaries\n",
    "\n",
    "2.3 Declare a second dictionary called secmod with your second favourite module details.\n"
   ]
  },
  {
   "cell_type": "code",
   "execution_count": 31,
   "metadata": {
    "id": "S9300xtmRa-C"
   },
   "outputs": [],
   "source": [
    "secmod={\"Name\":\"No One Again\",\"Year\":2022,\"Lecturer\":\"Noone Again\"}\n"
   ]
  },
  {
   "cell_type": "markdown",
   "metadata": {
    "id": "qxHsHgtfRa-F"
   },
   "source": [
    "2.4 Create a third dictionary containing the two you previously created called rankedmod and print it."
   ]
  },
  {
   "cell_type": "code",
   "execution_count": 32,
   "metadata": {
    "id": "zxcxk4y3Ra-F"
   },
   "outputs": [
    {
     "name": "stdout",
     "output_type": "stream",
     "text": [
      "{'favmod': {'Name': 'No One', 'Year': 2022, 'Lecturer': 'Noone'}, 'secmod': {'Name': 'No One Again', 'Year': 2022, 'Lecturer': 'Noone Again'}}\n"
     ]
    }
   ],
   "source": [
    "rankedmod={\"favmod\":favmod,\"secmod\":secmod}\n",
    "print(rankedmod)"
   ]
  },
  {
   "cell_type": "markdown",
   "metadata": {
    "id": "H3_PYC8dRa-H"
   },
   "source": [
    "### IF...ELSE and Loops in Python\n",
    "\n",
    "Python works with indentation rather than brackets to define what is within a IF statement or loop.\n",
    "\n",
    "3.1 Create an if else statement that prints a sentence describing the relationship between the two numbers below (e.g x is greater/smaller than y)."
   ]
  },
  {
   "cell_type": "code",
   "execution_count": 33,
   "metadata": {
    "id": "iCNGHbXGRa-H"
   },
   "outputs": [
    {
     "name": "stdout",
     "output_type": "stream",
     "text": [
      "a smaller\n"
     ]
    }
   ],
   "source": [
    "a = 46\n",
    "b = 99\n",
    "if(a>b):\n",
    "    print(\"a bigger\")\n",
    "elif(a==b):\n",
    "    print(\"equal\")\n",
    "else:\n",
    "    print(\"a smaller\")"
   ]
  },
  {
   "cell_type": "markdown",
   "metadata": {
    "id": "kK--0ENDRa-J"
   },
   "source": [
    "3.2 Write a loop (for and while) that prints the values in the modules list you created earlier."
   ]
  },
  {
   "cell_type": "markdown",
   "metadata": {
    "id": "7Lsl4simRa-K"
   },
   "source": [
    "## Operators\n",
    "\n",
    "Arithmetic operators in python should be familiar, however logic operators are a little different...\n",
    "in Python the words AND, OR and NOT are used as logic operators!\n",
    "\n",
    "4.1 Create and if statement whith multiple conditions using the variables a and b from above and c and d provided below."
   ]
  },
  {
   "cell_type": "code",
   "execution_count": null,
   "metadata": {
    "id": "DQmbm7XbRa-K"
   },
   "outputs": [],
   "source": [
    "c = 100\n",
    "d = 6"
   ]
  },
  {
   "cell_type": "markdown",
   "metadata": {
    "id": "h4p9FN39RmN7"
   },
   "source": [
    "## Challenge : Odd or Even?\n",
    "\n",
    "Write some code that prints out a different message for each number in the list below depending on whether it is odd or even.\n",
    "\n"
   ]
  },
  {
   "cell_type": "code",
   "execution_count": 43,
   "metadata": {
    "id": "uJmpqnfRS0w_"
   },
   "outputs": [
    {
     "name": "stdout",
     "output_type": "stream",
     "text": [
      "['Even', 'Odd', 'Even', 'Odd', 'Odd', 'Odd', 'Even', 'Odd', 'Even', 'Even', 'Odd', 'Even', 'Odd']\n"
     ]
    }
   ],
   "source": [
    "challenge = [2,5,76,89,77,103,24,65,66,12,1,0,19]\n",
    "x=map(lambda x:\"Even\" if(x%2==0) else \"Odd\",challenge)\n",
    "print(list(x))"
   ]
  },
  {
   "cell_type": "code",
   "execution_count": null,
   "metadata": {},
   "outputs": [],
   "source": []
  }
 ],
 "metadata": {
  "colab": {
   "collapsed_sections": [],
   "name": "Lab 1 Data Types and Operators .ipynb",
   "provenance": []
  },
  "kernelspec": {
   "display_name": "Python 3 (ipykernel)",
   "language": "python",
   "name": "python3"
  },
  "language_info": {
   "codemirror_mode": {
    "name": "ipython",
    "version": 3
   },
   "file_extension": ".py",
   "mimetype": "text/x-python",
   "name": "python",
   "nbconvert_exporter": "python",
   "pygments_lexer": "ipython3",
   "version": "3.9.7"
  }
 },
 "nbformat": 4,
 "nbformat_minor": 1
}
