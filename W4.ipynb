{
 "cells": [
  {
   "cell_type": "markdown",
   "metadata": {
    "id": "EYC_VQOta9rD"
   },
   "source": [
    "# CS3PP19 - Programming in Python for Data Science - Practical 2\n",
    "\n",
    "## Pandas & NumPy\n",
    "\n",
    "Follow the instructions to complete each of these tasks. This set of exercises focuses on working with Python's Pandas library.\n",
    "\n",
    "**Questions marked with a * are extra challenging**\n",
    "\n",
    "The relevant materials for these exercises are lectures Lectures 4, 5 and 6 (NumPy and Pandas).\n",
    "\n",
    "This is not assessed but will help you gain practical experience for the exam and coursework.\n",
    "\n",
    "You will need to download some of the csv data set files from the module Blackboard page and place them in the same folder as this notebook. Run the cell below to load all of the necessary Python modules.\n",
    "\n",
    "### PANDAS"
   ]
  },
  {
   "cell_type": "code",
   "execution_count": 2,
   "metadata": {
    "id": "6NWMYO1ta9rF"
   },
   "outputs": [],
   "source": [
    "import pandas as pd\n",
    "import requests\n",
    "import numpy as np\n",
    "from pandas.io.json import json_normalize"
   ]
  },
  {
   "cell_type": "markdown",
   "metadata": {
    "id": "hMcTUKXka9rM"
   },
   "source": [
    "## 1. Diamonds example data\n",
    "\n",
    "1.1. Read in the diamonds csv file to a pandas data frame. Use pandas to find how many diamonds have carat greater than 3.5."
   ]
  },
  {
   "cell_type": "code",
   "execution_count": 3,
   "metadata": {
    "id": "ILozxjToa9rN"
   },
   "outputs": [
    {
     "data": {
      "text/html": [
       "<div>\n",
       "<style scoped>\n",
       "    .dataframe tbody tr th:only-of-type {\n",
       "        vertical-align: middle;\n",
       "    }\n",
       "\n",
       "    .dataframe tbody tr th {\n",
       "        vertical-align: top;\n",
       "    }\n",
       "\n",
       "    .dataframe thead th {\n",
       "        text-align: right;\n",
       "    }\n",
       "</style>\n",
       "<table border=\"1\" class=\"dataframe\">\n",
       "  <thead>\n",
       "    <tr style=\"text-align: right;\">\n",
       "      <th></th>\n",
       "      <th>carat</th>\n",
       "      <th>cut</th>\n",
       "      <th>color</th>\n",
       "      <th>clarity</th>\n",
       "      <th>depth</th>\n",
       "      <th>table</th>\n",
       "      <th>price</th>\n",
       "      <th>x</th>\n",
       "      <th>y</th>\n",
       "      <th>z</th>\n",
       "    </tr>\n",
       "  </thead>\n",
       "  <tbody>\n",
       "    <tr>\n",
       "      <th>0</th>\n",
       "      <td>0.23</td>\n",
       "      <td>Ideal</td>\n",
       "      <td>E</td>\n",
       "      <td>SI2</td>\n",
       "      <td>61.5</td>\n",
       "      <td>55.0</td>\n",
       "      <td>326</td>\n",
       "      <td>3.95</td>\n",
       "      <td>3.98</td>\n",
       "      <td>2.43</td>\n",
       "    </tr>\n",
       "    <tr>\n",
       "      <th>1</th>\n",
       "      <td>0.21</td>\n",
       "      <td>Premium</td>\n",
       "      <td>E</td>\n",
       "      <td>SI1</td>\n",
       "      <td>59.8</td>\n",
       "      <td>61.0</td>\n",
       "      <td>326</td>\n",
       "      <td>3.89</td>\n",
       "      <td>3.84</td>\n",
       "      <td>2.31</td>\n",
       "    </tr>\n",
       "    <tr>\n",
       "      <th>2</th>\n",
       "      <td>0.23</td>\n",
       "      <td>Good</td>\n",
       "      <td>E</td>\n",
       "      <td>VS1</td>\n",
       "      <td>56.9</td>\n",
       "      <td>65.0</td>\n",
       "      <td>327</td>\n",
       "      <td>4.05</td>\n",
       "      <td>4.07</td>\n",
       "      <td>2.31</td>\n",
       "    </tr>\n",
       "    <tr>\n",
       "      <th>3</th>\n",
       "      <td>0.29</td>\n",
       "      <td>Premium</td>\n",
       "      <td>I</td>\n",
       "      <td>VS2</td>\n",
       "      <td>62.4</td>\n",
       "      <td>58.0</td>\n",
       "      <td>334</td>\n",
       "      <td>4.20</td>\n",
       "      <td>4.23</td>\n",
       "      <td>2.63</td>\n",
       "    </tr>\n",
       "    <tr>\n",
       "      <th>4</th>\n",
       "      <td>0.31</td>\n",
       "      <td>Good</td>\n",
       "      <td>J</td>\n",
       "      <td>SI2</td>\n",
       "      <td>63.3</td>\n",
       "      <td>58.0</td>\n",
       "      <td>335</td>\n",
       "      <td>4.34</td>\n",
       "      <td>4.35</td>\n",
       "      <td>2.75</td>\n",
       "    </tr>\n",
       "  </tbody>\n",
       "</table>\n",
       "</div>"
      ],
      "text/plain": [
       "   carat      cut color clarity  depth  table  price     x     y     z\n",
       "0   0.23    Ideal     E     SI2   61.5   55.0    326  3.95  3.98  2.43\n",
       "1   0.21  Premium     E     SI1   59.8   61.0    326  3.89  3.84  2.31\n",
       "2   0.23     Good     E     VS1   56.9   65.0    327  4.05  4.07  2.31\n",
       "3   0.29  Premium     I     VS2   62.4   58.0    334  4.20  4.23  2.63\n",
       "4   0.31     Good     J     SI2   63.3   58.0    335  4.34  4.35  2.75"
      ]
     },
     "execution_count": 3,
     "metadata": {},
     "output_type": "execute_result"
    }
   ],
   "source": [
    "diamonds = pd.read_csv(\"data/diamonds.csv\")\n",
    "diamonds.head()"
   ]
  },
  {
   "cell_type": "markdown",
   "metadata": {
    "id": "daKHNLZda9rS"
   },
   "source": [
    "<hr style=\"border:2px solid black\"> </hr>\n",
    "\n",
    "1.2. Create a series of the price of all of the diamonds that have carat greater than 3.5."
   ]
  },
  {
   "cell_type": "code",
   "execution_count": 5,
   "metadata": {
    "id": "a-GI18-4a9rT"
   },
   "outputs": [
    {
     "data": {
      "text/html": [
       "<div>\n",
       "<style scoped>\n",
       "    .dataframe tbody tr th:only-of-type {\n",
       "        vertical-align: middle;\n",
       "    }\n",
       "\n",
       "    .dataframe tbody tr th {\n",
       "        vertical-align: top;\n",
       "    }\n",
       "\n",
       "    .dataframe thead th {\n",
       "        text-align: right;\n",
       "    }\n",
       "</style>\n",
       "<table border=\"1\" class=\"dataframe\">\n",
       "  <thead>\n",
       "    <tr style=\"text-align: right;\">\n",
       "      <th></th>\n",
       "      <th>carat</th>\n",
       "      <th>cut</th>\n",
       "      <th>color</th>\n",
       "      <th>clarity</th>\n",
       "      <th>depth</th>\n",
       "      <th>table</th>\n",
       "      <th>price</th>\n",
       "      <th>x</th>\n",
       "      <th>y</th>\n",
       "      <th>z</th>\n",
       "    </tr>\n",
       "  </thead>\n",
       "  <tbody>\n",
       "    <tr>\n",
       "      <th>23644</th>\n",
       "      <td>3.65</td>\n",
       "      <td>Fair</td>\n",
       "      <td>H</td>\n",
       "      <td>I1</td>\n",
       "      <td>67.1</td>\n",
       "      <td>53.0</td>\n",
       "      <td>11668</td>\n",
       "      <td>9.53</td>\n",
       "      <td>9.48</td>\n",
       "      <td>6.38</td>\n",
       "    </tr>\n",
       "    <tr>\n",
       "      <th>25998</th>\n",
       "      <td>4.01</td>\n",
       "      <td>Premium</td>\n",
       "      <td>I</td>\n",
       "      <td>I1</td>\n",
       "      <td>61.0</td>\n",
       "      <td>61.0</td>\n",
       "      <td>15223</td>\n",
       "      <td>10.14</td>\n",
       "      <td>10.10</td>\n",
       "      <td>6.17</td>\n",
       "    </tr>\n",
       "    <tr>\n",
       "      <th>25999</th>\n",
       "      <td>4.01</td>\n",
       "      <td>Premium</td>\n",
       "      <td>J</td>\n",
       "      <td>I1</td>\n",
       "      <td>62.5</td>\n",
       "      <td>62.0</td>\n",
       "      <td>15223</td>\n",
       "      <td>10.02</td>\n",
       "      <td>9.94</td>\n",
       "      <td>6.24</td>\n",
       "    </tr>\n",
       "    <tr>\n",
       "      <th>26444</th>\n",
       "      <td>4.00</td>\n",
       "      <td>Very Good</td>\n",
       "      <td>I</td>\n",
       "      <td>I1</td>\n",
       "      <td>63.3</td>\n",
       "      <td>58.0</td>\n",
       "      <td>15984</td>\n",
       "      <td>10.01</td>\n",
       "      <td>9.94</td>\n",
       "      <td>6.31</td>\n",
       "    </tr>\n",
       "    <tr>\n",
       "      <th>26534</th>\n",
       "      <td>3.67</td>\n",
       "      <td>Premium</td>\n",
       "      <td>I</td>\n",
       "      <td>I1</td>\n",
       "      <td>62.4</td>\n",
       "      <td>56.0</td>\n",
       "      <td>16193</td>\n",
       "      <td>9.86</td>\n",
       "      <td>9.81</td>\n",
       "      <td>6.13</td>\n",
       "    </tr>\n",
       "  </tbody>\n",
       "</table>\n",
       "</div>"
      ],
      "text/plain": [
       "       carat        cut color clarity  depth  table  price      x      y     z\n",
       "23644   3.65       Fair     H      I1   67.1   53.0  11668   9.53   9.48  6.38\n",
       "25998   4.01    Premium     I      I1   61.0   61.0  15223  10.14  10.10  6.17\n",
       "25999   4.01    Premium     J      I1   62.5   62.0  15223  10.02   9.94  6.24\n",
       "26444   4.00  Very Good     I      I1   63.3   58.0  15984  10.01   9.94  6.31\n",
       "26534   3.67    Premium     I      I1   62.4   56.0  16193   9.86   9.81  6.13"
      ]
     },
     "execution_count": 5,
     "metadata": {},
     "output_type": "execute_result"
    }
   ],
   "source": [
    "greatCarat = diamonds[diamonds['carat']>3.5]\n",
    "greatCarat.head()"
   ]
  },
  {
   "cell_type": "markdown",
   "metadata": {
    "id": "ry5IQ8Bva9rW"
   },
   "source": [
    "<hr style=\"border:2px solid black\"> </hr>\n",
    "\n",
    "1.3. For ideal cut diamonds whose price is greater than 10000, find the number of diamonds having each clarity."
   ]
  },
  {
   "cell_type": "code",
   "execution_count": 19,
   "metadata": {
    "id": "iW5UXrw_a9rX"
   },
   "outputs": [
    {
     "data": {
      "text/plain": [
       "clarity\n",
       "I1       135\n",
       "IF       643\n",
       "SI1     3129\n",
       "SI2     2222\n",
       "VS1     2425\n",
       "VS2     3227\n",
       "VVS1    1229\n",
       "VVS2    1690\n",
       "Name: carat, dtype: int64"
      ]
     },
     "execution_count": 19,
     "metadata": {},
     "output_type": "execute_result"
    }
   ],
   "source": [
    "greatAndPricey = diamonds[(diamonds['price']>1000) & (diamonds['cut']=='Ideal')]\n",
    "greatAndPricey.groupby(['clarity'])['carat'].count()"
   ]
  },
  {
   "cell_type": "markdown",
   "metadata": {
    "id": "aVEd8-S6a9ra"
   },
   "source": [
    "<hr style=\"border:2px solid black\"> </hr>\n",
    "\n",
    "## 2. Vancouver street trees data\n",
    "\n",
    "2.1. Load the Vancouver street trees data provided on Blackboard. What is the most common genus of tree?"
   ]
  },
  {
   "cell_type": "code",
   "execution_count": null,
   "metadata": {
    "id": "0ZKOfV5Xa9ra"
   },
   "outputs": [],
   "source": []
  },
  {
   "cell_type": "markdown",
   "metadata": {
    "id": "HfSeMEbba9rc"
   },
   "source": [
    "<hr style=\"border:2px solid black\"> </hr>\n",
    "\n",
    "2.2. Find the mean diameter of trees with height range ID 9."
   ]
  },
  {
   "cell_type": "code",
   "execution_count": null,
   "metadata": {
    "id": "VM8QpIbJa9rc"
   },
   "outputs": [],
   "source": []
  },
  {
   "cell_type": "markdown",
   "metadata": {
    "id": "kLdd801Ra9re"
   },
   "source": [
    "<hr style=\"border:2px solid black\"> </hr>\n",
    "\n",
    "2.3. Produce a pandas data frame giving the maximum and minimum height range id on each street."
   ]
  },
  {
   "cell_type": "code",
   "execution_count": null,
   "metadata": {
    "id": "i0jP3D9Aa9re"
   },
   "outputs": [],
   "source": []
  },
  {
   "cell_type": "markdown",
   "metadata": {
    "id": "J_0a1lQqa9rg"
   },
   "source": [
    "\n",
    "<hr style=\"border:2px solid black\"> </hr>\n",
    "\n",
    "## 3. Iris flower example data\n",
    "\n",
    "3.1. Load the iris.csv flower data. Add two extra columns to the data frame giving the ratio of sepal length over width and petal length over width.\n",
    "\n"
   ]
  },
  {
   "cell_type": "code",
   "execution_count": null,
   "metadata": {
    "id": "JtPD3sGqa9rg"
   },
   "outputs": [],
   "source": []
  },
  {
   "cell_type": "markdown",
   "metadata": {
    "id": "D-nQeYiua9ri"
   },
   "source": [
    "<hr style=\"border:2px solid black\"> </hr>\n",
    "\n",
    "3.2. Calculate the mean of the ratio between sepal length and width for each species."
   ]
  },
  {
   "cell_type": "code",
   "execution_count": null,
   "metadata": {
    "id": "7jD9hHdda9ri"
   },
   "outputs": [],
   "source": []
  },
  {
   "cell_type": "markdown",
   "metadata": {},
   "source": [
    "<hr style=\"border:2px solid black\"> </hr>\n",
    "\n",
    "\n",
    "3.3. Perform a data discovery on the dataset.\n",
    "- How many classes are?\n",
    "- What is the distribution of the classes?\n",
    "- What are the characteristic of the data in general/per class?\n",
    "You can use methods like unique and describe.\n"
   ]
  },
  {
   "cell_type": "code",
   "execution_count": null,
   "metadata": {
    "id": "OyO9L6MZa9rk"
   },
   "outputs": [],
   "source": []
  },
  {
   "cell_type": "code",
   "execution_count": null,
   "metadata": {},
   "outputs": [],
   "source": []
  },
  {
   "cell_type": "code",
   "execution_count": null,
   "metadata": {
    "id": "c4KJx-EHa9rk"
   },
   "outputs": [],
   "source": []
  },
  {
   "cell_type": "code",
   "execution_count": null,
   "metadata": {},
   "outputs": [],
   "source": []
  },
  {
   "cell_type": "code",
   "execution_count": null,
   "metadata": {},
   "outputs": [],
   "source": []
  },
  {
   "cell_type": "code",
   "execution_count": null,
   "metadata": {},
   "outputs": [],
   "source": []
  },
  {
   "cell_type": "markdown",
   "metadata": {
    "id": "e2GC2B44a9rm"
   },
   "source": [
    "<hr style=\"border:2px solid black\"> </hr>\n",
    "\n",
    "## 4 Philadelphia bike share live data\n",
    "\n",
    "4.1 Complete the code below to load a JSON live feed for a Philadelphia bike share program into a pandas data frame. It may help to look at the JSON data in a visual inspector. One way of doing this is to open the url given in Firefox. Once you have loaded the data, look at the head of the data frame, and list all of the columns.\n",
    "\n",
    "(I've had to add in some header data to the request, as the server rejects all requests without a user agent string)\n",
    "\n",
    "*You can use the pandas function json_normalize that was imported at the start of the notebook, but you need to pass it a suitable part of the JSON data.* \n",
    "\n",
    "*The indego_bikes_data object returned by requests.get() can be converted to a Python data structure using the json() method*\n",
    "\n",
    "https://pandas.pydata.org/pandas-docs/version/1.2.0/reference/api/pandas.json_normalize.html"
   ]
  },
  {
   "cell_type": "code",
   "execution_count": null,
   "metadata": {
    "id": "0VeJnrVKa9rm"
   },
   "outputs": [],
   "source": [
    "indego_bikes_url = (\"https://www.rideindego.com/stations/json/\")\n",
    "headers = {'User-Agent': \"Mozilla/5.0 (Macintosh; Intel Mac OS X 10.13; rv:63.0) Gecko/20100101 Firefox/63.0\"}\n",
    "indego_bikes_data = requests.get(indego_bikes_url,headers=headers)\n"
   ]
  },
  {
   "cell_type": "code",
   "execution_count": null,
   "metadata": {
    "colab": {
     "base_uri": "https://localhost:8080/",
     "height": 436
    },
    "id": "lHLtjycCa9ro",
    "outputId": "c1d5d30f-585f-4a5c-da00-5ba4bcd3c092"
   },
   "outputs": [],
   "source": [
    "##To display the data you can use the following line\n",
    "indego_bikes_data.json()\n"
   ]
  },
  {
   "cell_type": "code",
   "execution_count": null,
   "metadata": {},
   "outputs": [],
   "source": []
  },
  {
   "cell_type": "markdown",
   "metadata": {
    "id": "jdfBIdIWa9rp"
   },
   "source": [
    "<hr style=\"border:2px solid black\"> </hr>\n",
    "\n",
    "4.2. Is there any street with more than one bike station?"
   ]
  },
  {
   "cell_type": "code",
   "execution_count": null,
   "metadata": {
    "colab": {
     "base_uri": "https://localhost:8080/",
     "height": 35
    },
    "id": "o0l1pBGpa9rq",
    "outputId": "79d052fb-8f03-4b21-f1f6-570917d7cb61"
   },
   "outputs": [],
   "source": []
  },
  {
   "cell_type": "markdown",
   "metadata": {
    "id": "k-VKHCFVa9rr"
   },
   "source": [
    "<hr style=\"border:2px solid black\"> </hr>\n",
    "\n",
    "4.3. Use pandas to count the total number of available docks in each zip code, producing a Series of zipcodes and available dock counts.\n",
    "\n",
    "*You can use the pandas method sum() on a grouby object to add the all values in a particular group*."
   ]
  },
  {
   "cell_type": "code",
   "execution_count": null,
   "metadata": {
    "colab": {
     "base_uri": "https://localhost:8080/",
     "height": 399
    },
    "id": "ha2cfBzVa9rr",
    "outputId": "04609c1a-e9e7-439f-f5d8-8ee105e7027c"
   },
   "outputs": [],
   "source": []
  },
  {
   "cell_type": "markdown",
   "metadata": {
    "id": "DWGRJLTJa9rt"
   },
   "source": [
    "<hr style=\"border:2px solid black\"> </hr> \n",
    "\n",
    "__4.4*__. Using pandas, find the difference between the minimum and maximum number of available bikes at docks within each zip code."
   ]
  },
  {
   "cell_type": "code",
   "execution_count": null,
   "metadata": {
    "id": "7lpEG4Oya9rt"
   },
   "outputs": [],
   "source": []
  },
  {
   "cell_type": "markdown",
   "metadata": {
    "id": "5uhNFy7Na9ru"
   },
   "source": [
    "__4.5*__. Write Python code using pandas to determine the postal code with the highest median of docks available."
   ]
  },
  {
   "cell_type": "code",
   "execution_count": null,
   "metadata": {
    "id": "d56SkZuwa9rv"
   },
   "outputs": [],
   "source": []
  },
  {
   "cell_type": "markdown",
   "metadata": {
    "id": "IQD6K85Ea9ry"
   },
   "source": [
    "<hr style=\"border:2px solid black\"> </hr> \n",
    "\n",
    "## 5 Bikes Dataset\n",
    "\n",
    "Load the bikes.csv file into a pandas data frame. Using the DataFrame method isnull(), you can produce a DataFrame where each value is either True if the value is  missing, or False if it is present.\n"
   ]
  },
  {
   "cell_type": "markdown",
   "metadata": {},
   "source": [
    "5.1. Produce a count of the number of missing values in each column in the DataFrame.\n",
    "\n",
    "*Tip - the sum() method treats True and False values as 1 and 0 respectively https://pandas.pydata.org/pandas-docs/stable/reference/api/pandas.DataFrame.sum.html*"
   ]
  },
  {
   "cell_type": "code",
   "execution_count": null,
   "metadata": {
    "id": "Nu0umWA0a9ry"
   },
   "outputs": [],
   "source": []
  },
  {
   "cell_type": "markdown",
   "metadata": {
    "id": "hSYXXwdDa9r0"
   },
   "source": [
    "<hr style=\"border:2px solid black\"> </hr> \n",
    "\n",
    "5.2. Think of a sensible way of removing the missing values and use this to create a new DataFrame with no missing values. You can use the copy() method to duplicate a DataFrame before modifying it."
   ]
  },
  {
   "cell_type": "code",
   "execution_count": null,
   "metadata": {
    "id": "omaVJ6ZTa9r0"
   },
   "outputs": [],
   "source": []
  },
  {
   "cell_type": "markdown",
   "metadata": {
    "id": "7kkbCvHja9r1"
   },
   "source": [
    "<hr style=\"border:2px solid black\"> </hr> \n",
    "\n",
    "5.3. Use the describe() method to calculate statistics of the columns in the data frame. Is there anything strange about the values in a column?"
   ]
  },
  {
   "cell_type": "code",
   "execution_count": null,
   "metadata": {
    "id": "1BlZWUw8a9r1"
   },
   "outputs": [],
   "source": []
  },
  {
   "cell_type": "markdown",
   "metadata": {
    "id": "wu6zV39Na9r5"
   },
   "source": [
    "<hr style=\"border:2px solid black\"> </hr> \n",
    "\n",
    "5.5. Convert the Start Time and End Time columns to pandas datetime objects. You can do this using the pd.to_datetime method on those columns.\n",
    "\n",
    "Create a new column in the data frame that gives the day of the week the journey was started on. You can extract the day of the week from a datetime object using the .dayofweek attribue, and use the apply method of a column in a DataFrame to apply a function to each value in the column."
   ]
  },
  {
   "cell_type": "code",
   "execution_count": null,
   "metadata": {
    "id": "lA6Ew4sta9r5"
   },
   "outputs": [],
   "source": []
  },
  {
   "cell_type": "markdown",
   "metadata": {
    "id": "NqhhuEK6a9r6"
   },
   "source": [
    "<hr style=\"border:2px solid black\"> </hr> \n",
    "\n",
    "5.6. Create a new column in the data frame giving the (approximate) age in years of the user for each journey. "
   ]
  },
  {
   "cell_type": "code",
   "execution_count": null,
   "metadata": {
    "id": "uEXlzOrVa9r7"
   },
   "outputs": [],
   "source": []
  },
  {
   "cell_type": "markdown",
   "metadata": {
    "id": "Ng5wwVIRa9r8"
   },
   "source": [
    "<hr style=\"border:2px solid black\"> </hr> \n",
    "\n",
    "5.7. Investigate the numbers of journeys starting at each hour of the day. You can use the hour attribute of a pandas datetime object to extract the hour of the day from the starting times.\n",
    "\n",
    "https://pandas.pydata.org/pandas-docs/stable/reference/api/pandas.Series.dt.hour.html"
   ]
  },
  {
   "cell_type": "code",
   "execution_count": null,
   "metadata": {
    "id": "Q8FHM7MQa9r8"
   },
   "outputs": [],
   "source": []
  },
  {
   "cell_type": "markdown",
   "metadata": {
    "id": "DyFE-jkua9r9"
   },
   "source": [
    "<hr style=\"border:2px solid black\"> </hr> \n",
    "\n",
    "__5.8*__. Use the pandas cut() function to create a new column in the data frame that assigns an age range of the user for each journey. Use this new column to visualise the relationship between age group and duration of journeys.\n",
    "\n",
    "You can find documentation on the cut function here - https://pandas.pydata.org/pandas-docs/stable/reference/api/pandas.cut.html"
   ]
  },
  {
   "cell_type": "code",
   "execution_count": null,
   "metadata": {
    "id": "jzUBjGGRa9r9"
   },
   "outputs": [],
   "source": []
  },
  {
   "cell_type": "markdown",
   "metadata": {
    "id": "77nAuFyTb_Ug"
   },
   "source": [
    "<hr style=\"border:2px solid black\"> </hr> \n",
    "\n",
    "## NUMPY"
   ]
  },
  {
   "cell_type": "markdown",
   "metadata": {
    "id": "vCsnnp_mcukq"
   },
   "source": [
    "1.1. Write a line of code in the locations indicated to test whether the numpy array contains 0."
   ]
  },
  {
   "cell_type": "code",
   "execution_count": null,
   "metadata": {
    "colab": {
     "base_uri": "https://localhost:8080/",
     "height": 232
    },
    "id": "_C-u5YPHcDGw",
    "outputId": "1b0f4d61-e385-4bac-9b95-6f014bebf407"
   },
   "outputs": [],
   "source": [
    "import numpy as np\n",
    "x = np.array([1, 2, 3, 4])\n",
    "print(\"Original array:\")\n",
    "print(x)\n",
    "print(\"Test if none of the elements of the said array is zero:\")\n",
    "# insert your code here\n",
    "\n",
    "x = np.array([0, 1, 2, 3])\n",
    "print(\"Original array:\")\n",
    "print(x)\n",
    "print(\"Test if none of the elements of the said array is zero:\")\n",
    "# insert your code here"
   ]
  },
  {
   "cell_type": "code",
   "execution_count": null,
   "metadata": {},
   "outputs": [],
   "source": []
  },
  {
   "cell_type": "markdown",
   "metadata": {
    "id": "xmRlrwwkdMfS"
   },
   "source": [
    "<hr style=\"border:2px solid black\"> </hr> \n",
    "\n",
    "1.2. Insert code to test whether the array below contains any NaNs or infite numbers."
   ]
  },
  {
   "cell_type": "code",
   "execution_count": null,
   "metadata": {
    "id": "d_pYwu-Cdai5"
   },
   "outputs": [],
   "source": [
    "a = np.array([1, 0, np.nan, np.inf])\n",
    "print(\"Original array\")\n",
    "print(a)\n",
    "print(\"Test a given array element-wise for finiteness :\")\n",
    "# insert your code here"
   ]
  },
  {
   "cell_type": "code",
   "execution_count": null,
   "metadata": {},
   "outputs": [],
   "source": []
  },
  {
   "cell_type": "markdown",
   "metadata": {
    "id": "_tFLWDifd2I0"
   },
   "source": [
    "<hr style=\"border:2px solid black\"> </hr> \n",
    "1.3. Insert code to create a 3x3 identity matrix i.e. diagonal elements are 1, the rest are 0."
   ]
  },
  {
   "cell_type": "code",
   "execution_count": null,
   "metadata": {
    "id": "ZhJbBKCceGUz"
   },
   "outputs": [],
   "source": []
  },
  {
   "cell_type": "markdown",
   "metadata": {
    "id": "e9-u2vZseG7w"
   },
   "source": [
    "<hr style=\"border:2px solid black\"> </hr> \n",
    "\n",
    "1.4. Write code to generate an array of 10 random numbers from a normal distribution."
   ]
  },
  {
   "cell_type": "code",
   "execution_count": null,
   "metadata": {
    "id": "91l0SUY_eW9M"
   },
   "outputs": [],
   "source": []
  },
  {
   "cell_type": "markdown",
   "metadata": {
    "id": "O_X_RgTqezJb"
   },
   "source": [
    "<hr style=\"border:2px solid black\"> </hr> \n",
    "\n",
    "__1.5*__. Write code to compute the coordinates for points on a cosine curve and plot the points using matplotlib __(Optional)__"
   ]
  },
  {
   "cell_type": "code",
   "execution_count": null,
   "metadata": {},
   "outputs": [],
   "source": [
    "import matplotlib.pyplot as plt\n",
    "import matplotlib as mpl\n",
    "import seaborn as sns\n",
    "import numpy as np"
   ]
  },
  {
   "cell_type": "code",
   "execution_count": null,
   "metadata": {
    "id": "5aFnIETifgwO"
   },
   "outputs": [],
   "source": []
  },
  {
   "cell_type": "markdown",
   "metadata": {},
   "source": [
    "1.6. Create a 4x4 matrix with values ranging from 1 to 16"
   ]
  },
  {
   "cell_type": "code",
   "execution_count": null,
   "metadata": {},
   "outputs": [],
   "source": []
  },
  {
   "cell_type": "code",
   "execution_count": null,
   "metadata": {},
   "outputs": [],
   "source": []
  }
 ],
 "metadata": {
  "colab": {
   "name": "Lab 2 Pandas and NumPy .ipynb",
   "provenance": []
  },
  "kernelspec": {
   "display_name": "Python 3 (ipykernel)",
   "language": "python",
   "name": "python3"
  },
  "language_info": {
   "codemirror_mode": {
    "name": "ipython",
    "version": 3
   },
   "file_extension": ".py",
   "mimetype": "text/x-python",
   "name": "python",
   "nbconvert_exporter": "python",
   "pygments_lexer": "ipython3",
   "version": "3.9.7"
  }
 },
 "nbformat": 4,
 "nbformat_minor": 1
}
